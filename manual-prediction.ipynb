{
 "cells": [
  {
   "cell_type": "code",
   "execution_count": null,
   "metadata": {},
   "outputs": [],
   "source": [
    "import mlflow\n",
    "import pandas as pd\n",
    "import shutil\n",
    "from sklearn.metrics import accuracy_score, precision_score, recall_score, f1_score,roc_auc_score\n",
    "from sklearn.model_selection import train_test_split"
   ]
  },
  {
   "cell_type": "code",
   "execution_count": null,
   "metadata": {},
   "outputs": [],
   "source": [
    "id_experiment = mlflow.get_experiment_by_name('MLflow Depression').experiment_id\n",
    "runs_all = mlflow.search_runs(\n",
    "    [id_experiment],\n",
    "    order_by=['start_time DESC']\n",
    ")\n",
    "\n",
    "runs = runs_all[~runs_all['tags.mlflow.parentRunId'].isin(runs_all[runs_all['status']=='RUNNING']['tags.mlflow.parentRunId'])]\n",
    "latest_parent_run = runs.iloc[0]['tags.mlflow.parentRunId']\n",
    "latest_nested_runs = runs[runs['tags.mlflow.parentRunId'] == latest_parent_run]\n",
    "\n",
    "best_latest_run = latest_nested_runs.sort_values('metrics.test_auc', ascending=False).iloc[0]\n",
    "best_latest_run"
   ]
  },
  {
   "cell_type": "code",
   "execution_count": null,
   "metadata": {},
   "outputs": [],
   "source": [
    "mlflow.set_tracking_uri(uri=\"http://localhost:8080\")\n",
    "best_model = f'runs:/{best_latest_run.run_id}/depression_model'\n",
    "load_model = mlflow.sklearn.load_model(model_uri=best_model)"
   ]
  },
  {
   "cell_type": "code",
   "execution_count": null,
   "metadata": {},
   "outputs": [],
   "source": [
    "load_model"
   ]
  },
  {
   "cell_type": "code",
   "execution_count": null,
   "metadata": {},
   "outputs": [],
   "source": [
    "X  = pd.read_pickle('data/processed_data.pkl')\n",
    "y = X['label_c']\n",
    "X.drop(['label','label_c'],axis=1,inplace=True)\n",
    "\n",
    "# Split the data into training and test sets\n",
    "X_train, X_test, y_train, y_test = train_test_split(\n",
    "    X, y, test_size=0.2, random_state=42\n",
    ")\n",
    "\n",
    "train_accuracy = accuracy_score(y_train, load_model.predict(X_train))\n",
    "test_accuracy = accuracy_score(y_test, load_model.predict(X_test))\n",
    "test_accuracy,train_accuracy"
   ]
  },
  {
   "cell_type": "code",
   "execution_count": null,
   "metadata": {},
   "outputs": [],
   "source": [
    "shutil.copyfile(\n",
    "'mlartifacts/439831194545044561/{}/artifacts/depression_model/model.pkl'.format(best_latest_run.run_id),\n",
    "'models/model.pkl'\n",
    ")"
   ]
  },
  {
   "cell_type": "code",
   "execution_count": null,
   "metadata": {},
   "outputs": [],
   "source": []
  }
 ],
 "metadata": {
  "kernelspec": {
   "display_name": "Python 3",
   "language": "python",
   "name": "python3"
  },
  "language_info": {
   "codemirror_mode": {
    "name": "ipython",
    "version": 3
   },
   "file_extension": ".py",
   "mimetype": "text/x-python",
   "name": "python",
   "nbconvert_exporter": "python",
   "pygments_lexer": "ipython3",
   "version": "3.13.1"
  }
 },
 "nbformat": 4,
 "nbformat_minor": 2
}
